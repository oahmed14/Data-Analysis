{
 "cells": [
  {
   "cell_type": "code",
   "execution_count": 109,
   "metadata": {},
   "outputs": [],
   "source": [
    "# Importing libaries\n",
    "import pandas as pd\n",
    "import matplotlib.pyplot as plt\n",
    "import seaborn as sns\n",
    "import numpy as np\n",
    "import dc_stat_think as dcst\n",
    "\n",
    "sns.set()\n",
    "%matplotlib inline"
   ]
  },
  {
   "cell_type": "code",
   "execution_count": 104,
   "metadata": {},
   "outputs": [],
   "source": [
    "#Loading Data to DataFrame and settings columns values\n",
    "df= pd.read_csv('C:\\Users\\MICROSOFT\\Music\\DS-Cheat Sheet\\DATA\\gandhi_et_al_bouts.csv')\n",
    "df.columns = ['genotype','bout_length','fish']"
   ]
  },
  {
   "cell_type": "code",
   "execution_count": 117,
   "metadata": {},
   "outputs": [],
   "source": [
    "#creating three arrays for wild, mutant andheterozygote \"sim-mutant\" type fish \n",
    "bout_lengths_wt = df[(df.genotype == 'wt')].bout_length\n",
    "bout_lengths_mut = df[(df.genotype == 'mut')].bout_length\n",
    "bout_lengths_het = df[(df.genotype == 'het')].bout_length"
   ]
  },
  {
   "cell_type": "code",
   "execution_count": 118,
   "metadata": {},
   "outputs": [],
   "source": [
    "def ecdf(data):\n",
    "    \n",
    "    \"\"\"Compute ECDF for a one-dimensional array of measurements.\"\"\"\n",
    "\n",
    "    # Number of data points: n\n",
    "    n=len(data)\n",
    "\n",
    "    # x-data for the ECDF: x\n",
    "    x= np.sort(data)\n",
    "\n",
    "    # y-data for the ECDF: y\n",
    "    y = np.arange(1, n+1,dtype=float) / n\n",
    "    \n",
    "    return x, y"
   ]
  },
  {
   "cell_type": "code",
   "execution_count": 119,
   "metadata": {},
   "outputs": [],
   "source": [
    "# Generate x and y values for plotting ECDFs for both types of fish\n",
    "x_wt, y_wt = ecdf(bout_lengths_wt)\n",
    "x_mut, y_mut = ecdf(bout_lengths_mut)\n"
   ]
  },
  {
   "cell_type": "code",
   "execution_count": 120,
   "metadata": {},
   "outputs": [
    {
     "data": {
      "image/png": "[encoded data removed]",
      "text/plain": [
       "<Figure size 432x288 with 1 Axes>"
      ]
     },
     "metadata": {},
     "output_type": "display_data"
    }
   ],
   "source": [
    "# Plot the ECDFs\n",
    "dig= plt.plot(x_wt, y_wt, marker='.', linestyle='none')\n",
    "dig = plt.plot(x_mut, y_mut, marker='.', linestyle='none')\n",
    "\n",
    "# Make a legend, label axes, and show plot\n",
    "dig = plt.legend(('wt', 'mut'))\n",
    "dig = plt.xlabel('active bout length (min)')\n",
    "dig = plt.ylabel('ECDF')\n",
    "plt.show()"
   ]
  },
  {
   "cell_type": "code",
   "execution_count": 121,
   "metadata": {},
   "outputs": [
    {
     "name": "stdout",
     "output_type": "stream",
     "text": [
      "('wt:  mean = ', 3.8735557132719247, 'conf. int. =', array([3.63244322, 4.12956813]), 'mut: mean =', 6.54337278106505, 'conf. int. =', array([6.11448928, 7.02907544]))\n"
     ]
    }
   ],
   "source": [
    "# Bootstrap confidence intervals: Optimal parameter value\n",
    "\n",
    "# Compute mean active bout length\n",
    "mean_wt = np.mean(bout_lengths_wt)\n",
    "mean_mut = np.mean(bout_lengths_mut)\n",
    "\n",
    "# Draw bootstrap replicates\n",
    "bs_reps_wt = dcst.draw_bs_reps(bout_lengths_wt, np.mean, size=10000)\n",
    "bs_reps_mut = dcst.draw_bs_reps(bout_lengths_mut, np.mean, size=10000)\n",
    "\n",
    "# Compute 95% confidence intervals\n",
    "conf_int_wt = np.percentile(bs_reps_wt, [2.5, 97.5])\n",
    "conf_int_mut = np.percentile(bs_reps_mut, [2.5, 97.5])\n",
    "\n",
    "# Print the results\n",
    "print(\"wt:  mean = \", mean_wt, \"conf. int. =\", conf_int_wt,\n",
    "\"mut: mean =\" ,mean_mut, \"conf. int. =\" ,conf_int_mut,)"
   ]
  },
  {
   "cell_type": "code",
   "execution_count": 124,
   "metadata": {},
   "outputs": [
    {
     "name": "stdout",
     "output_type": "stream",
     "text": [
      "('p =', 0.0009)\n"
     ]
    }
   ],
   "source": [
    "# Test the hypothesis that the heterozygote and wild type bout lengths are identically distributed using a permutation test.\n",
    "\n",
    "# Compute the difference of means: diff_means_exp\n",
    "diff_means_exp =  np.mean(bout_lengths_het) - np.mean(bout_lengths_wt)\n",
    "\n",
    "# Draw permutation replicates: perm_reps\n",
    "perm_reps = dcst.draw_perm_reps( bout_lengths_het, bout_lengths_wt, \n",
    "                               dcst.diff_of_means, size=10000)\n",
    "\n",
    "# Compute the p-value: p-val\n",
    "p_val = np.sum(perm_reps >= diff_means_exp, dtype=float) / len(perm_reps)\n",
    "\n",
    "# Print the result\n",
    "print('p =', p_val)\n",
    "\n",
    "\"\"\"\n",
    "A p-value of 0.001 suggests that the observed difference in means is unlikely \n",
    "to occur if heterozygotic and wild type fish have active bout lengths that are identically distributed.\n",
    "\"\"\""
   ]
  },
  {
   "cell_type": "code",
   "execution_count": 126,
   "metadata": {},
   "outputs": [
    {
     "name": "stdout",
     "output_type": "stream",
     "text": [
      "('p-value =', 0.0003)\n"
     ]
    }
   ],
   "source": [
    "# Bootstrap hypothesis test\n",
    "\n",
    "# Concatenate arrays: bout_lengths_concat\n",
    "bout_lengths_concat = np.concatenate((bout_lengths_wt, bout_lengths_het))\n",
    "\n",
    "# Compute mean of all bout_lengths: mean_bout_length\n",
    "mean_bout_length = np.mean(bout_lengths_concat)\n",
    "\n",
    "# Generate shifted arrays\n",
    "wt_shifted = bout_lengths_wt - np.mean(bout_lengths_wt) + mean_bout_length\n",
    "het_shifted = bout_lengths_het - np.mean(bout_lengths_het) + mean_bout_length\n",
    "\n",
    "# Compute 10,000 bootstrap replicates from shifted arrays\n",
    "bs_reps_wt = dcst.draw_bs_reps(wt_shifted,np.mean,size=10000)\n",
    "bs_reps_het = dcst.draw_bs_reps(het_shifted,np.mean,size=10000)\n",
    "\n",
    "# Get replicates of difference of means: bs_replicates\n",
    "bs_reps =  bs_reps_het - bs_reps_wt\n",
    "\n",
    "# Compute and print p-value: p\n",
    "p = np.sum(bs_reps >= diff_means_exp, dtype=float) / len(bs_reps)\n",
    "print('p-value =', p)"
   ]
  },
  {
   "cell_type": "code",
   "execution_count": null,
   "metadata": {},
   "outputs": [],
   "source": []
  }
 ],
 "metadata": {
  "kernelspec": {
   "display_name": "Python 2",
   "language": "python",
   "name": "python2"
  },
  "language_info": {
   "codemirror_mode": {
    "name": "ipython",
    "version": 2
   },
   "file_extension": ".py",
   "mimetype": "text/x-python",
   "name": "python",
   "nbconvert_exporter": "python",
   "pygments_lexer": "ipython2",
   "version": "2.7.15"
  }
 },
 "nbformat": 4,
 "nbformat_minor": 2
}
