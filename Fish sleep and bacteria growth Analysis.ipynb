{
 "cells": [
  {
   "cell_type": "code",
   "execution_count": 109,
   "metadata": {},
   "outputs": [],
   "source": [
    "# Importing libaries\n",
    "import pandas as pd\n",
    "import matplotlib.pyplot as plt\n",
    "import seaborn as sns\n",
    "import numpy as np\n",
    "import dc_stat_think as dcst\n",
    "\n",
    "sns.set()\n",
    "%matplotlib inline"
   ]
  },
  {
   "cell_type": "code",
   "execution_count": 104,
   "metadata": {},
   "outputs": [],
   "source": [
    "#Loading Data to DataFrame and settings columns values\n",
    "df= pd.read_csv('C:\\Users\\MICROSOFT\\Music\\DS-Cheat Sheet\\DATA\\gandhi_et_al_bouts.csv')\n",
    "df.columns = ['genotype','bout_length','fish']"
   ]
  },
  {
   "cell_type": "code",
   "execution_count": 105,
   "metadata": {},
   "outputs": [],
   "source": [
    "#creating two arrays for mutant and wild type fish each\n",
    "bout_lengths_wt = df[(df.genotype == 'wt')].bout_length\n",
    "bout_lengths_mut = df[(df.genotype == 'het')].bout_length"
   ]
  },
  {
   "cell_type": "code",
   "execution_count": 106,
   "metadata": {},
   "outputs": [],
   "source": [
    "def ecdf(data):\n",
    "    \n",
    "    \"\"\"Compute ECDF for a one-dimensional array of measurements.\"\"\"\n",
    "\n",
    "    # Number of data points: n\n",
    "    n=len(data)\n",
    "\n",
    "    # x-data for the ECDF: x\n",
    "    x= np.sort(data)\n",
    "\n",
    "    # y-data for the ECDF: y\n",
    "    y = np.arange(1, n+1,dtype=float) / n\n",
    "    \n",
    "    return x, y"
   ]
  },
  {
   "cell_type": "code",
   "execution_count": 107,
   "metadata": {},
   "outputs": [],
   "source": [
    "# Generate x and y values for plotting ECDFs for both types of fish\n",
    "x_wt, y_wt = ecdf(bout_lengths_wt)\n",
    "x_mut, y_mut = ecdf(bout_lengths_mut)\n"
   ]
  },
  {
   "cell_type": "code",
   "execution_count": 108,
   "metadata": {},
   "outputs": [
    {
     "data": {
      "image/png": "[encoded data removed]",
      "text/plain": [
       "<Figure size 432x288 with 1 Axes>"
      ]
     },
     "metadata": {},
     "output_type": "display_data"
    }
   ],
   "source": [
    "# Plot the ECDFs\n",
    "dig= plt.plot(x_wt, y_wt, marker='.', linestyle='none')\n",
    "dig = plt.plot(x_mut, y_mut, marker='.', linestyle='none')\n",
    "\n",
    "# Make a legend, label axes, and show plot\n",
    "dig = plt.legend(('wt', 'mut'))\n",
    "dig = plt.xlabel('active bout length (min)')\n",
    "dig = plt.ylabel('ECDF')\n",
    "plt.show()"
   ]
  },
  {
   "cell_type": "code",
   "execution_count": 116,
   "metadata": {},
   "outputs": [
    {
     "name": "stdout",
     "output_type": "stream",
     "text": [
      "('wt:  mean = ', 3.8735557132719247, 'conf. int. =', array([3.63010646, 4.12578886]), 'mut: mean =', 4.430888315517869, 'conf. int. =', array([4.20652304, 4.66892776]))\n"
     ]
    }
   ],
   "source": [
    "# boostraping \n",
    "\n",
    "# Compute mean active bout length\n",
    "mean_wt = np.mean(bout_lengths_wt)\n",
    "mean_mut = np.mean(bout_lengths_mut)\n",
    "\n",
    "# Draw bootstrap replicates\n",
    "bs_reps_wt = dcst.draw_bs_reps(bout_lengths_wt, np.mean, size=10000)\n",
    "bs_reps_mut = dcst.draw_bs_reps(bout_lengths_mut, np.mean, size=10000)\n",
    "\n",
    "# Compute 95% confidence intervals\n",
    "conf_int_wt = np.percentile(bs_reps_wt, [2.5, 97.5])\n",
    "conf_int_mut = np.percentile(bs_reps_mut, [2.5, 97.5])\n",
    "\n",
    "# Print the results\n",
    "print(\"wt:  mean = \", mean_wt, \"conf. int. =\", conf_int_wt,\n",
    "\"mut: mean =\" ,mean_mut, \"conf. int. =\" ,conf_int_mut,)"
   ]
  },
  {
   "cell_type": "code",
   "execution_count": null,
   "metadata": {},
   "outputs": [],
   "source": []
  }
 ],
 "metadata": {
  "kernelspec": {
   "display_name": "Python 2",
   "language": "python",
   "name": "python2"
  },
  "language_info": {
   "codemirror_mode": {
    "name": "ipython",
    "version": 2
   },
   "file_extension": ".py",
   "mimetype": "text/x-python",
   "name": "python",
   "nbconvert_exporter": "python",
   "pygments_lexer": "ipython2",
   "version": "2.7.15"
  }
 },
 "nbformat": 4,
 "nbformat_minor": 2
}
